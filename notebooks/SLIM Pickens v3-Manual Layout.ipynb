{
 "cells": [
  {
   "cell_type": "markdown",
   "metadata": {},
   "source": [
    "## SLIM Pickens: An Interactive Circuit Layout Tool for Planar Traveling Wave Ion Guides\n",
    "* BHC 01.Feb.2023"
   ]
  },
  {
   "cell_type": "markdown",
   "metadata": {},
   "source": [
    "### Objective: Simplify the layout of SLIM boards and facilitate rapid prototyping.  This script can aid in the export of exact SLIM monomer locations that can be imported into KiCad or another suitable PCB design tool. "
   ]
  },
  {
   "cell_type": "markdown",
   "metadata": {},
   "source": [
    "### TODO"
   ]
  },
  {
   "cell_type": "markdown",
   "metadata": {},
   "source": [
    "* Add correct scaling for SLIM turns and length calculation\n",
    "* Add capacity to animate multiple ion packets\n",
    "    * Needs scaling of the step\n",
    "        * Use a float accounting to increase a fraction and then round to increment?"
   ]
  },
  {
   "cell_type": "markdown",
   "metadata": {},
   "source": [
    "### How to use?"
   ]
  },
  {
   "cell_type": "markdown",
   "metadata": {},
   "source": [
    "The general strategy is to layout a SLIM path similar to the path that a rudimentary game character might behave moving through a maze. A centipede character is a good example? "
   ]
  },
  {
   "cell_type": "markdown",
   "metadata": {},
   "source": [
    "![Path Track](https://1.bp.blogspot.com/-VgBXjKlVJds/XzB6hr2qfKI/AAAAAAAAZmI/XzzPcgEnl0Imw70Rn0xKA7ojnxBt7FHEQCLcBGAsYHQ/s384/centipede_path_size2.gif)"
   ]
  },
  {
   "cell_type": "markdown",
   "metadata": {},
   "source": [
    "There are two key components to laying out a track. The starting direction decides which direction the paths are laid out and the track string details the absolute track path.  For example a starting direction of 'E' corresponds to an SLIM path with a starting direction of East for the ions. With this starting position and a path layout of \"FRLF\" would create a path that corresponds to a track that is ESEE (East, South, East, East). Using this strategy it is possible to layout the individual components of the SLIM board. It is recognized that multiple different types of SLIM paths may comprise a full board and this set of scripts allows for each section to be built independently.  \n",
    "\n",
    "In addition to being a graphical tool, the center locations of each monomer are stored in a python dictionary that is exported to a json file.  This json file, when paired with a script for KiCad, can be used to explicitly layout the board. Be mindful that you understand that two different monomer footprints are needed in the PCB software. One with a guard above the tracks and one with the guard below the tracks. This is to ensure that guards do not conflict when turning different direction. "
   ]
  },
  {
   "cell_type": "markdown",
   "metadata": {},
   "source": [
    "<img src=\"BottomGuard.png\" width=300 height=300 />\n",
    "<img src=\"TopGuard.png\" width=300 height=300 />\n",
    "<!-- ![Bottom Guard](BottomGuard.png)\n",
    "![Top Guard](TopGuard.png) -->"
   ]
  },
  {
   "cell_type": "markdown",
   "metadata": {},
   "source": [
    "### Remember, above all, this is an *iterative* process.  The input parameters are the total length of a SLIM monomer and the relative centroid values following a turn. It is incumbent upon the user to move through the process in a deliberate manner and don't be afraid to revise previous track layouts to ensure they mesh. A final board review is always necessary.  Known conflicts with guard overlaps occur when different, indepdendent paths are overlaid upon each other to make a full board. "
   ]
  },
  {
   "cell_type": "markdown",
   "metadata": {},
   "source": [
    "<img src=\"TurnLayout.png?1\" width=500 height=500 />"
   ]
  },
  {
   "cell_type": "markdown",
   "metadata": {},
   "source": [
    "### Import Variables"
   ]
  },
  {
   "cell_type": "code",
   "execution_count": null,
   "metadata": {},
   "outputs": [],
   "source": [
    "# Key Imports\n",
    "import numpy as np\n",
    "import matplotlib.pyplot as plt\n",
    "import json\n",
    "%matplotlib inline"
   ]
  },
  {
   "cell_type": "code",
   "execution_count": null,
   "metadata": {},
   "outputs": [],
   "source": [
    "\n",
    "from IPython.display import display, HTML\n",
    "from matplotlib.patches import Rectangle, Circle\n",
    "%matplotlib inline"
   ]
  },
  {
   "cell_type": "code",
   "execution_count": null,
   "metadata": {},
   "outputs": [],
   "source": [
    "import matplotlib\n",
    "from matplotlib import animation\n",
    "matplotlib.rcParams['animation.embed_limit'] = 2**128 #needed for animation export"
   ]
  },
  {
   "cell_type": "markdown",
   "metadata": {},
   "source": [
    "## Key SLIM Layout Variables"
   ]
  },
  {
   "cell_type": "markdown",
   "metadata": {},
   "source": [
    "________"
   ]
  },
  {
   "cell_type": "code",
   "execution_count": null,
   "metadata": {},
   "outputs": [],
   "source": [
    "trackLen = 360 #width in mils\n",
    "aOffset = 295.5 #turn offset A\n",
    "bOffset = 64.5 #turn offset B"
   ]
  },
  {
   "cell_type": "markdown",
   "metadata": {},
   "source": [
    "________"
   ]
  },
  {
   "cell_type": "markdown",
   "metadata": {},
   "source": [
    "### Variables for Plotting"
   ]
  },
  {
   "cell_type": "code",
   "execution_count": null,
   "metadata": {},
   "outputs": [],
   "source": [
    "#Everthing below is related to plotting\n",
    "trackMod = 25 #used for plotting to show the individual electrode footprints\n",
    "guardOffset = 150#242#trackLen/8*3 #used for plotting to simulate whether the guard should exist on the \"top\" or \"bottom\" relative to the electrodes\n",
    "masterMS = 2 #marker size\n",
    "upColor = '#2ca25f'#'r'\n",
    "downColor = '#2c7fb8'#'b'\n",
    "rightColor = '#de2d26'#'g'\n",
    "leftColor = '#756bb1'#'#fecc5c'#k'"
   ]
  },
  {
   "cell_type": "markdown",
   "metadata": {},
   "source": [
    "### Function to plot a single SLIM \"Monomer\""
   ]
  },
  {
   "cell_type": "code",
   "execution_count": null,
   "metadata": {},
   "outputs": [],
   "source": [
    "def plotMonomer(mplAx, curX, curY, trackLen = trackLen, trackOffset = trackMod, guardOffset = guardOffset, showGuard = True, offsetBool = True, hBool = False, curColor = 'r', ms = 8, markerStyle = 'o', alphaLevelMain = 0.75, alphaLevelLo = 0.5, linewidth = 1.0):\n",
    "    '''\n",
    "    Requires:\n",
    "        a matplotlib axis as an input\n",
    "        X location\n",
    "        Y location\n",
    "        track length\n",
    "        offset for plotting guard\n",
    "        hBool is a boolean that determines whether the track is horizontal or vertical in nature\n",
    "        Additoinal Plotting Parameters\n",
    "    '''\n",
    "    halfTrack = (trackLen/2)-trackOffset\n",
    "    if hBool:\n",
    "        if showGuard:\n",
    "            if offsetBool:\n",
    "                mplAx.hlines(curY+guardOffset, curX-halfTrack, curX+halfTrack, color = 'k', linestyle = ':', alpha = alphaLevelLo, linewidth = linewidth)\n",
    "            else:\n",
    "                mplAx.hlines(curY-guardOffset, curX-halfTrack, curX+halfTrack, color = 'k', linestyle = ':', alpha = alphaLevelLo, linewidth = linewidth)\n",
    "        retLine = mplAx.hlines(curY, curX-halfTrack, curX+halfTrack, color = curColor, alpha = alphaLevelMain, linewidth = linewidth)\n",
    "        mplAx.plot(curX, curY, markerStyle, color = curColor, mfc = 'w', markersize = ms, alpha = alphaLevelMain)\n",
    "        return retLine\n",
    "    else:\n",
    "        if showGuard:\n",
    "            if offsetBool:\n",
    "                mplAx.vlines(curX+guardOffset, curY-halfTrack, curY+halfTrack, color = 'k', linestyle = ':', alpha = alphaLevelLo, linewidth = linewidth)\n",
    "            else:\n",
    "                mplAx.vlines(curX-guardOffset, curY-halfTrack, curY+halfTrack, color = 'k', linestyle = ':', alpha = alphaLevelLo, linewidth = linewidth)\n",
    "        retLine = mplAx.vlines(curX, curY-halfTrack, curY+halfTrack, color = curColor, alpha = alphaLevelMain, linewidth = linewidth)\n",
    "        mplAx.plot(curX, curY, markerStyle, color = curColor, mfc = 'w', markersize = ms, alpha = alphaLevelMain)\n",
    "        return retLine\n",
    "    "
   ]
  },
  {
   "cell_type": "markdown",
   "metadata": {},
   "source": [
    "### Handle the directionality of the path and adjust the X,Y coordinates"
   ]
  },
  {
   "cell_type": "code",
   "execution_count": null,
   "metadata": {},
   "outputs": [],
   "source": [
    "def turnLogic(curLogic, nextLogic, curX, curY, aOffset = aOffset, bOffset = bOffset, trackLen = trackLen):\n",
    "    '''\n",
    "    When factoring in the current and next direction into account, determine the orientation of the current monomer. \n",
    "    '''\n",
    "    if curLogic == 'N':\n",
    "        if nextLogic == 'E': #right turn\n",
    "            newX = curX + bOffset\n",
    "            newY = curY + aOffset\n",
    "        if nextLogic == 'W': #left turn\n",
    "            newX = curX + -1*bOffset\n",
    "            newY = curY + aOffset\n",
    "\n",
    "    if curLogic == 'E':\n",
    "        if nextLogic == 'S': #right turn\n",
    "            newX = curX + aOffset\n",
    "            newY = curY + -1*bOffset\n",
    "        if nextLogic == 'N': #left turn\n",
    "            newX = curX + aOffset\n",
    "            newY = curY + bOffset            \n",
    "\n",
    "    if curLogic == 'S':\n",
    "        if nextLogic == 'E': #right turn\n",
    "            newX = curX + bOffset\n",
    "            newY = curY + -1*aOffset\n",
    "        if nextLogic == 'W': #left turn\n",
    "            newX = curX + -1*bOffset\n",
    "            newY = curY + -1*aOffset                \n",
    "\n",
    "    if curLogic == 'W':\n",
    "        if nextLogic == 'N': #right turn\n",
    "            newX = curX + -1*aOffset\n",
    "            newY = curY + bOffset\n",
    "        if nextLogic == 'S': #left turn\n",
    "            newX = curX + -1*aOffset\n",
    "            newY = curY + -1*bOffset \n",
    "            \n",
    "    return newX, newY"
   ]
  },
  {
   "cell_type": "markdown",
   "metadata": {},
   "source": [
    "### Movement Class for Each Monomer"
   ]
  },
  {
   "cell_type": "code",
   "execution_count": null,
   "metadata": {},
   "outputs": [],
   "source": [
    "'''\n",
    "https://stackoverflow.com/questions/59108529/how-to-move-along-a-2d-grid-in-python\n",
    "This class serves to navigate the path. Instead of a standard step of one, \n",
    "the class was modified to allow for the step size to move by the track length.\n",
    "'''\n",
    "\n",
    "class Point:\n",
    "    def __init__(self, x: int, y:int , facing: str, stepMod = trackLen):\n",
    "        self.x = x\n",
    "        self.y = y\n",
    "        self.stepMod = stepMod #BHC\n",
    "        self.facing = facing\n",
    "        self.lastFacing = facing\n",
    "\n",
    "    def left(self):\n",
    "        self.lastFacing = self.facing\n",
    "        if self.facing == 'N':\n",
    "            self.facing = 'W'\n",
    "            self.x, self.y = turnLogic(self.lastFacing, self.facing, self.x, self.y)\n",
    "            \n",
    "        elif self.facing == 'W':\n",
    "            self.facing = 'S'\n",
    "            self.x, self.y = turnLogic(self.lastFacing, self.facing, self.x, self.y)\n",
    "            \n",
    "        elif self.facing == 'S':\n",
    "            self.facing = 'E'\n",
    "            self.x, self.y = turnLogic(self.lastFacing, self.facing, self.x, self.y)\n",
    "            \n",
    "        elif self.facing == 'E':\n",
    "            self.facing = 'N'\n",
    "            self.x, self.y = turnLogic(self.lastFacing, self.facing, self.x, self.y)            \n",
    "            \n",
    "        else:\n",
    "            self.facing = 'N'\n",
    "\n",
    "    def right(self):\n",
    "        self.lastFacing = self.facing\n",
    "        if self.facing == 'N':\n",
    "            self.facing = 'E'\n",
    "            self.x, self.y = turnLogic(self.lastFacing, self.facing, self.x, self.y)\n",
    "            \n",
    "        elif self.facing == 'E':\n",
    "            self.facing = 'S'\n",
    "            self.x, self.y = turnLogic(self.lastFacing, self.facing, self.x, self.y)\n",
    "            \n",
    "        elif self.facing == 'S':\n",
    "            self.facing = 'W'\n",
    "            self.x, self.y = turnLogic(self.lastFacing, self.facing, self.x, self.y)\n",
    "\n",
    "        elif self.facing == 'W':\n",
    "            self.facing = 'N'\n",
    "            self.x, self.y = turnLogic(self.lastFacing, self.facing, self.x, self.y)\n",
    "            \n",
    "            \n",
    "        else:\n",
    "            self.facing = 'N'\n",
    "\n",
    "    def forward(self):\n",
    "        self.lastFacing = self.facing\n",
    "        if self.facing == 'N':\n",
    "            self.y += 1*self.stepMod\n",
    "        elif self.facing == 'E':\n",
    "            self.x += 1*self.stepMod\n",
    "        elif self.facing == 'S':\n",
    "            self.y -= 1*self.stepMod\n",
    "        else:\n",
    "            self.x -= 1*self.stepMod    \n",
    "\n",
    "    def __repr__(self):\n",
    "        return f\"(x,y) = {(self.x,self.y)} \\t{x} \\t last direction = {self.lastFacing} \\t direction = {self.facing} \""
   ]
  },
  {
   "cell_type": "code",
   "execution_count": null,
   "metadata": {},
   "outputs": [],
   "source": [
    "def colorLogic(curDirection, upColor = upColor, downColor = downColor, leftColor = leftColor, rightColor = rightColor):\n",
    "    '''\n",
    "    A default logic to determine the color you want for the different plotting. Default colors are specified above\n",
    "    '''\n",
    "    retColor = 'k'\n",
    "    if curDirection == 'N':\n",
    "        retColor = upColor\n",
    "    if curDirection == 'S':\n",
    "        retColor = downColor\n",
    "\n",
    "    if curDirection == 'E':\n",
    "        retColor = rightColor\n",
    "    if curDirection == 'W':\n",
    "        retColor = leftColor   \n",
    "    \n",
    "    return retColor"
   ]
  },
  {
   "cell_type": "code",
   "execution_count": null,
   "metadata": {},
   "outputs": [],
   "source": [
    "def createUPDOWN(numStraights = 10, reverseBool = False):\n",
    "    '''\n",
    "    Creates a series of up/down tracks. Used to speed the addition of serpentine path\n",
    "    \n",
    "    Assumes the prior direciton is \"N\"\n",
    "    \n",
    "    N* is the prior direcation\n",
    "    \n",
    "    This:\n",
    "    \n",
    "     E  S\n",
    "    *N  S\n",
    "        S\n",
    "        S\n",
    "        S\n",
    "        S  N\n",
    "        E  N\n",
    "    \n",
    "    Corresponds to this:\n",
    "    \n",
    "     R  R\n",
    "    *F  F\n",
    "        F\n",
    "        F\n",
    "        F\n",
    "        F  F\n",
    "        L  L\n",
    "       \n",
    "    \n",
    "    '''\n",
    "    \n",
    "\n",
    "    dirStr = 'RR' #DOWN\n",
    "    if reverseBool:\n",
    "        dirStr = 'LL'\n",
    "    \n",
    "    \n",
    "    dirStr += 'F'*numStraights\n",
    "    \n",
    "    \n",
    "    if reverseBool:\n",
    "        dirStr += 'RR' #UP\n",
    "    else:\n",
    "        dirStr += 'LL' #UP\n",
    "    dirStr += 'F'*numStraights \n",
    "    \n",
    "#     for n in range(numStraights):\n",
    "#         dirStr+='F'\n",
    "    \n",
    "    return dirStr"
   ]
  },
  {
   "cell_type": "code",
   "execution_count": null,
   "metadata": {},
   "outputs": [],
   "source": [
    "def guardFlipLogic(lastDir, currentDir):\n",
    "    '''\n",
    "    This is for plotting only and determines where to put the guard. \n",
    "    The actual layout logic is in \"footprintLogic\"\n",
    "    '''\n",
    "    flipLogic = True\n",
    "    if lastDir == 'W':\n",
    "        if currentDir == 'N':\n",
    "            flipLogic = False\n",
    "        if currentDir == 'S':\n",
    "            flipLogic = False\n",
    "        if currentDir == 'W':\n",
    "            flipLogic = False            \n",
    "    if lastDir == 'S':\n",
    "        if currentDir == 'W':\n",
    "            flipLogic = False\n",
    "        if currentDir == 'E':\n",
    "            flipLogic = False\n",
    "    return flipLogic"
   ]
  },
  {
   "cell_type": "code",
   "execution_count": null,
   "metadata": {},
   "outputs": [],
   "source": [
    "def footprintLogic(dirList, topTrackName = 'TW1GT{}', botTrackName = 'TW1GB{}'):\n",
    "    '''\n",
    "    Function to determine the name and orientation of the monomers in PCB layout.  The input parameters are the default\n",
    "    used at WSU and correspond to the names of the footprints in KiCad. If you use this feature, adapt to the name\n",
    "    of your specific library footprints. \n",
    "    '''\n",
    "    nameList = []\n",
    "    angleList = []\n",
    "    lastD = dirList[0]\n",
    "    \n",
    "    topNameCore = topTrackName[:-2]#get rid of last {} characters\n",
    "    botNameCore = botTrackName[:-2]#get rid of last {} characters\n",
    "    \n",
    "#     preName = topNameCore#hardcoded\n",
    "    \n",
    "    \n",
    "    topCount = 1\n",
    "    botCount = 1\n",
    "    #1st pass to setup locations and general directions\n",
    "    for i,d in enumerate(dirList):\n",
    "        \n",
    "        if i == 0:#special case as we need to consider directions in pairs to decide the logic of the footpring\n",
    "            curD = dirList[i]\n",
    "            lastD = dirList[i]#get first direction\n",
    "        else:\n",
    "            lastD = curD\n",
    "            curD = d\n",
    "        \n",
    "        if lastD == 'E':\n",
    "            if curD == 'E':\n",
    "                curName = topTrackName.format(topCount)\n",
    "                topCount+=1\n",
    "                curAngle = 0\n",
    "            if curD == 'N':\n",
    "                curName = botTrackName.format(botCount)\n",
    "                botCount+=1\n",
    "                curAngle = 90\n",
    "            if curD == 'S':\n",
    "                curName = topTrackName.format(topCount)\n",
    "                topCount+=1\n",
    "                curAngle = 270\n",
    "        \n",
    "        if lastD == 'N':\n",
    "            if curD == 'N':\n",
    "                if i>0:\n",
    "                    prevName = nameList[-1]\n",
    "                else:\n",
    "                    prevName = topNameCore                \n",
    "\n",
    "                if topNameCore in prevName:\n",
    "                    curName = topTrackName.format(topCount)\n",
    "                    topCount+=1\n",
    "                elif botNameCore in prevName:\n",
    "                    curName = botTrackName.format(botCount)\n",
    "                    botCount+=1\n",
    "                curAngle = 90\n",
    "            if curD == 'E':\n",
    "                curName = topTrackName.format(topCount)\n",
    "                topCount+=1\n",
    "                curAngle = 0\n",
    "            if curD == 'W':\n",
    "                curName = botTrackName.format(botCount)\n",
    "                botCount+=1\n",
    "                curAngle = 180\n",
    "\n",
    "        if lastD == 'W':\n",
    "            if curD == 'W':\n",
    "                curName = topTrackName.format(topCount)\n",
    "                topCount+=1\n",
    "                curAngle = 180\n",
    "            if curD == 'N':\n",
    "                curName = topTrackName.format(topCount)\n",
    "                topCount+=1\n",
    "                curAngle = 90\n",
    "            if curD == 'S':\n",
    "                curName = botTrackName.format(botCount)\n",
    "                botCount+=1\n",
    "                curAngle = 270 \n",
    "\n",
    "        if lastD == 'S':\n",
    "            if curD == 'S':\n",
    "                if i>0:\n",
    "                    prevName = nameList[-1]\n",
    "                else:\n",
    "                    prevName = topNameCore\n",
    "                if topNameCore in prevName:\n",
    "                    curName = topTrackName.format(topCount)\n",
    "                    topCount+=1\n",
    "                elif botNameCore in prevName:\n",
    "                    curName = botTrackName.format(botCount)\n",
    "                    botCount+=1                \n",
    "                curAngle = 270\n",
    "            if curD == 'E':\n",
    "                curName = botTrackName.format(botCount)\n",
    "                botCount+=1\n",
    "                curAngle = 0              \n",
    "            if curD == 'W':\n",
    "                curName = topTrackName.format(topCount)\n",
    "                topCount+=1\n",
    "                curAngle = 180\n",
    "        \n",
    "    \n",
    "        nameList.append(curName)\n",
    "        angleList.append(curAngle)\n",
    "        \n",
    "    return nameList, angleList, topCount-1, botCount-1 #subtract one because each loop adds one at the end in anticipation for the enxt"
   ]
  },
  {
   "cell_type": "code",
   "execution_count": null,
   "metadata": {},
   "outputs": [],
   "source": [
    "#https://stackoverflow.com/questions/59108529/how-to-move-along-a-2d-grid-in-python\n",
    "\n",
    "class Point:\n",
    "    def __init__(self, x: int, y:int , facing: str, stepMod = trackLen):\n",
    "        self.x = x\n",
    "        self.y = y\n",
    "        self.stepMod = stepMod #BHC\n",
    "        self.facing = facing\n",
    "        self.lastFacing = facing\n",
    "        self.angle = 0\n",
    "\n",
    "    def left(self):\n",
    "\n",
    "        self.angle += 90\n",
    "        self.angle = self.angle%360        \n",
    "        \n",
    "        self.lastFacing = self.facing\n",
    "        if self.facing == 'N':\n",
    "            self.facing = 'W'\n",
    "            self.x, self.y = turnLogic(self.lastFacing, self.facing, self.x, self.y)\n",
    "            \n",
    "        elif self.facing == 'W':\n",
    "            self.facing = 'S'\n",
    "            self.x, self.y = turnLogic(self.lastFacing, self.facing, self.x, self.y)\n",
    "            self.angle -= 90\n",
    "            \n",
    "        elif self.facing == 'S':\n",
    "            self.facing = 'E'\n",
    "            self.x, self.y = turnLogic(self.lastFacing, self.facing, self.x, self.y)\n",
    "            \n",
    "        elif self.facing == 'E':\n",
    "            self.facing = 'N'\n",
    "            self.x, self.y = turnLogic(self.lastFacing, self.facing, self.x, self.y)            \n",
    "            \n",
    "        else:\n",
    "            self.facing = 'N'\n",
    "\n",
    "    def right(self):\n",
    "\n",
    "        self.angle -= 90\n",
    "        self.angle = self.angle%360  \n",
    "        \n",
    "        self.lastFacing = self.facing\n",
    "        if self.facing == 'N':\n",
    "            self.facing = 'E'\n",
    "            self.x, self.y = turnLogic(self.lastFacing, self.facing, self.x, self.y)\n",
    "            \n",
    "        elif self.facing == 'E':\n",
    "            self.facing = 'S'\n",
    "            self.x, self.y = turnLogic(self.lastFacing, self.facing, self.x, self.y)\n",
    "            \n",
    "        elif self.facing == 'S':\n",
    "            self.facing = 'W'\n",
    "            self.x, self.y = turnLogic(self.lastFacing, self.facing, self.x, self.y)\n",
    "\n",
    "        elif self.facing == 'W':\n",
    "            self.facing = 'N'\n",
    "            self.x, self.y = turnLogic(self.lastFacing, self.facing, self.x, self.y)\n",
    "            \n",
    "            \n",
    "        else:\n",
    "            self.facing = 'N'\n",
    "\n",
    "    def forward(self):\n",
    "        self.lastFacing = self.facing\n",
    "        if self.facing == 'N':\n",
    "            self.y += 1*self.stepMod\n",
    "        elif self.facing == 'E':\n",
    "            self.x += 1*self.stepMod\n",
    "        elif self.facing == 'S':\n",
    "            self.y -= 1*self.stepMod\n",
    "        else:\n",
    "            self.x -= 1*self.stepMod    \n",
    "\n",
    "    def __repr__(self):\n",
    "        return f\"(x,y) = {(self.x,self.y)} \\t{x} \\t last direction = {self.lastFacing} \\t direction = {self.facing} \""
   ]
  },
  {
   "cell_type": "code",
   "execution_count": null,
   "metadata": {},
   "outputs": [],
   "source": [
    "def getLayoutParam(trackString, initDirection = 'E', curX = 0, curY = 0, sectionName = 'SLIM Track', markerStyle = 'o'):\n",
    "    '''\n",
    "    Link the core functions together to create a dictionary containin the necessary information for plotting\n",
    "    and PCB layout. \n",
    "    '''\n",
    "    \n",
    "    startPos = initDirection\n",
    "        \n",
    "    #handle whether the line drawn should be horizontal or not\n",
    "    hBool = True\n",
    "    if startPos == 'N' or startPos == 'S':\n",
    "        hBool = not hBool\n",
    "\n",
    "    trackDict = {}        \n",
    "    trackDict['origin'] = [curX, curY]\n",
    "    \n",
    "    \n",
    "    curPoint = Point(curX,curY,startPos)\n",
    "    xyPos = []\n",
    "    boolList = []\n",
    "    \n",
    "    curAngleList = []\n",
    "\n",
    "    curDirList = []\n",
    "    for i,x in enumerate(trackString):\n",
    "        if x == 'L':\n",
    "            curPoint.left()\n",
    "            hBool = not hBool\n",
    "            boolList.append(hBool)\n",
    "        elif x == 'R':\n",
    "            curPoint.right()\n",
    "            hBool = not hBool\n",
    "            boolList.append(hBool)        \n",
    "        else:\n",
    "            curPoint.forward()\n",
    "            boolList.append(hBool)\n",
    "\n",
    "        xyPos.append([curPoint.x, curPoint.y])\n",
    "        curDirList.append(curPoint.facing)\n",
    "\n",
    "    #handle guards and their orientation\n",
    "    guardFlipList = [True] #list of booleans, whether the guard is flipped or not depends upon the prior position\n",
    "    currentDir = curDirList[0]\n",
    "    for i,direction in enumerate(curDirList):\n",
    "        if i == 0:\n",
    "            currentDir = direction\n",
    "        else:\n",
    "            lastDir = currentDir\n",
    "            currentDir = direction\n",
    "            flipLogic = guardFlipLogic(lastDir, currentDir)\n",
    "            guardFlipList.append(flipLogic)\n",
    "    #         print(lastDir, currentDir)    \n",
    "    \n",
    "    trackDict['section name'] = sectionName\n",
    "    trackDict['marker style'] = markerStyle\n",
    "    trackDict['guard logic'] = guardFlipList\n",
    "    trackDict['line bool'] = boolList\n",
    "    trackDict['xy'] = xyPos\n",
    "    trackDict['direction'] = curDirList\n",
    "\n",
    "\n",
    "    return trackDict\n",
    "    "
   ]
  },
  {
   "cell_type": "code",
   "execution_count": null,
   "metadata": {},
   "outputs": [],
   "source": [
    "def plotTrackSummary(trackDictList, plotBoardBool = False, boardDict = {}, boardColor = 'k', \n",
    "                     drillBool = False, drillDiameter = 125, drillColor = 'r', drillAlpha = 0.5, printDrill = False):\n",
    "    '''\n",
    "    Expects a list of dictionaries\n",
    "    \n",
    "    boardDict = {}\n",
    "    boardDict['origin'] = (0,0)\n",
    "    boardDict['x'] = 10\n",
    "    boardDict['y'] = 20\n",
    "    '''\n",
    "    \n",
    "    fig, ax = plt.subplots(figsize = (12,10))\n",
    "    \n",
    "    for trackDict in trackDictList:\n",
    "        sectionName = trackDict['section name']\n",
    "        guardFlipList = trackDict['guard logic']\n",
    "        boolList = trackDict['line bool']\n",
    "        xyPos = trackDict['xy']\n",
    "        curDirList = trackDict['direction']\n",
    "        curMarkerStyle = trackDict['marker style']\n",
    "        if 'ms' in trackDict:\n",
    "            curMS = trackDict['ms'] #marker size\n",
    "        else:\n",
    "            curMS = 8\n",
    "        \n",
    "\n",
    "        for i,xy in enumerate(xyPos):\n",
    "            curX = xy[0]\n",
    "            curY = xy[1]\n",
    "            curBool = boolList[i]\n",
    "            curColor = colorLogic(curDirList[i])\n",
    "            guardLogic = guardFlipList[i]\n",
    "            plotMonomer(ax, curX, curY, hBool = curBool, curColor = curColor, offsetBool = guardLogic, markerStyle = curMarkerStyle, ms = curMS)\n",
    "    \n",
    "    if plotBoardBool:\n",
    "        if 'origin' in boardDict:\n",
    "            boardOrigin = boardDict['origin'] #should be a tuple (e.g. (x,y) )\n",
    "            #These values are swapped because things are rotated 270 so the origin is in the top left. \n",
    "            boardY = boardDict['x']\n",
    "            boardX = boardDict['y']            \n",
    "            ax.add_patch(Rectangle(boardOrigin,\n",
    "                                   boardX, boardY,\n",
    "                                   fc='none',\n",
    "                                   color = boardColor,\n",
    "                                   linewidth = 1,\n",
    "                                   linestyle=\"-\", angle = 270),)            \n",
    "            \n",
    "            if drillBool:\n",
    "                drillOffsetX = boardDict['drill offset x']#\n",
    "                drillOffsetY = boardDict['drill offset y']#                \n",
    "                \n",
    "                drillLocs = []\n",
    "                xOrig = boardOrigin[0]\n",
    "                yOrig = boardOrigin[1]\n",
    "                \n",
    "                pnt1X = xOrig+drillOffsetX\n",
    "                pnt1Y = yOrig-drillOffsetY\n",
    "\n",
    "                pnt2X = xOrig+drillOffsetX\n",
    "                pnt2Y = yOrig-boardX+drillOffsetY                \n",
    "                \n",
    "                pnt3X = xOrig+boardY-drillOffsetX\n",
    "                pnt3Y = yOrig-drillOffsetY\n",
    "\n",
    "                pnt4X = xOrig+boardY-drillOffsetX\n",
    "                pnt4Y = yOrig-boardX+drillOffsetY\n",
    "                \n",
    "                drillLocs.append([pnt1X, pnt1Y])\n",
    "                drillLocs.append([pnt2X, pnt2Y])\n",
    "                drillLocs.append([pnt3X, pnt3Y])\n",
    "                drillLocs.append([pnt4X, pnt4Y])                \n",
    "                \n",
    "                for m,dl in enumerate(drillLocs):\n",
    "                    dx = dl[0]\n",
    "                    dy = dl[1]\n",
    "                    \n",
    "                    if printDrill:\n",
    "                        print(\"Drill #%d: \"%m, dx, dy)\n",
    "                    curDrill = Circle((dx, dy), drillDiameter/2, color=drillColor, alpha = drillAlpha)\n",
    "                    ax.add_patch(curDrill)\n",
    "                \n",
    "        \n",
    "        else:\n",
    "            print(\"Incorrect board information provided.\")\n",
    "            \n",
    "    ax.set_aspect('equal', 'datalim')\n",
    "    ax.margins(0.1)"
   ]
  },
  {
   "cell_type": "code",
   "execution_count": null,
   "metadata": {},
   "outputs": [],
   "source": [
    "def plotBackGroundTrack(ax, backGroundTrack, defaultMS = 0.01, colorLight = '#554f4e'):\n",
    "    '''\n",
    "    Used for animation to overlay two tracks. One for the total track and the other for the track you will animate.\n",
    "    '''\n",
    "    \n",
    "    sectionNameBG = backGroundTrack['section name']\n",
    "    guardFlipListBG = backGroundTrack['guard logic']\n",
    "    boolListBG = backGroundTrack['line bool']\n",
    "    xyPosBG = backGroundTrack['xy']\n",
    "    curDirListBG = backGroundTrack['direction']\n",
    "    curMarkerStyleBG = backGroundTrack['marker style']\n",
    "    if 'ms' in backGroundTrack:\n",
    "#         backGroundTrack['ms'] = defaultMS\n",
    "        curMSBG = backGroundTrack['ms'] #marker size\n",
    "    else:\n",
    "        curMSBG = defaultMS\n",
    "\n",
    "\n",
    "    lineList = []\n",
    "\n",
    "    for j,ab in enumerate(xyPosBG):\n",
    "        curA = ab[0]\n",
    "        curB = ab[1]\n",
    "        curBoolX = boolListBG[j]\n",
    "        guardLogicX = guardFlipListBG[j]\n",
    "        slimLine = plotMonomer(ax, curA, curB, hBool = curBoolX, curColor = colorLight, \n",
    "                              showGuard = False, offsetBool = guardLogicX, markerStyle = curMarkerStyleBG, \n",
    "                              ms = curMSBG, alphaLevelLo = 0.15, alphaLevelMain = 0.25)  \n",
    "        lineList.append(slimLine)\n",
    "\n",
    "    return lineList"
   ]
  },
  {
   "cell_type": "code",
   "execution_count": null,
   "metadata": {},
   "outputs": [],
   "source": [
    "def animateRange(trackDict, animLen, backGroundTrack = None, colorLight = '#554f4e', colorDark = '#990000', \n",
    "                 defaultMS = 0.1, figsize = (12,10), interval = 50, numIters = -1):\n",
    "    \n",
    "    '''\n",
    "    Accepts a dictionary from getLayoutParam\n",
    "    Input parameters takes a length of track to be animated. \n",
    "    \n",
    "    There are multiple nested functions. This is not ideal but matplotlib animation is funky. \n",
    "    Especially, if you want to overlay paths. \n",
    "    \n",
    "    '''\n",
    "    \n",
    "    #Setup Main Plot\n",
    "    fig, ax = plt.subplots(figsize = figsize)\n",
    "    \n",
    "    #Setup Animated Path\n",
    "    xyPos = trackDict['xy']\n",
    "    \n",
    "    ###\n",
    "    indMin = 0 \n",
    "    indMax = 0\n",
    "    indLen = animLen #length of the ion train\n",
    "    maxVal = len(xyPos)\n",
    "    \n",
    "    if indLen>maxVal:\n",
    "        print(\"The requested length to animate is too long. It must be less than the total path\")\n",
    "        return False\n",
    "    \n",
    "    maxBool = False\n",
    "    ###\n",
    "    \n",
    "    if numIters < 0:\n",
    "        numIters = len(xyPos)+indLen\n",
    "    \n",
    "#     setup background path\n",
    "    if backGroundTrack == None:\n",
    "        backGroundTrack = trackDict\n",
    "        \n",
    "    lineList = plotBackGroundTrack(ax, trackDict, defaultMS = defaultMS, colorLight = colorLight)        \n",
    "    lineListBG = plotBackGroundTrack(ax, backGroundTrack, defaultMS = defaultMS, colorLight = colorLight)\n",
    "\n",
    "\n",
    "    def init():\n",
    "        lineList = plotBackGroundTrack(ax, trackDict, defaultMS = defaultMS, colorLight = colorLight)\n",
    "        lineListBG = plotBackGroundTrack(ax, backGroundTrack, defaultMS = defaultMS, colorLight = colorLight)\n",
    "\n",
    "        return lineList\n",
    "\n",
    "    def handleMinMax(i, indLen = indLen, maxVal = maxVal):\n",
    "        curMin = 0\n",
    "        curMax = i\n",
    "        if i < indLen:\n",
    "            curMin = 0\n",
    "        else:\n",
    "            curMin = i-indLen\n",
    "\n",
    "        if curMax>maxVal:\n",
    "            curMax = maxVal\n",
    "\n",
    "        return curMin, curMax\n",
    "    # animation function.  This is called sequentially\n",
    "    def animate(i):\n",
    "\n",
    "        curMin, curMax = handleMinMax(i)\n",
    "\n",
    "        for ll in lineList:\n",
    "            ll.set_alpha(0.25)\n",
    "            ll.set_color(colorLight)\n",
    "            ll.set_linewidth(1)\n",
    "\n",
    "\n",
    "        for ll in lineList[curMin:curMax]:\n",
    "            ll.set_alpha(1)\n",
    "            ll.set_color(colorDark)\n",
    "            ll.set_linewidth(3)\n",
    "\n",
    "        return lineList\n",
    "\n",
    "    ax.set_aspect('equal', 'datalim')\n",
    "    plt.grid()\n",
    "    plt.axis('off')\n",
    "    \n",
    "    anim = animation.FuncAnimation(fig, animate, frames= numIters, interval=interval) #maxVal+indLen\n",
    "    \n",
    "    return anim"
   ]
  },
  {
   "cell_type": "code",
   "execution_count": null,
   "metadata": {},
   "outputs": [],
   "source": [
    "def combineTracks(trackList, mergedName = 'Merged Tracks'):\n",
    "    '''\n",
    "    Accepts a list of track dictionaries and merges them together.  This may prove useful for both \n",
    "    plotting and export of the json for PCB layout. \n",
    "    \n",
    "    Note that the first board's origin will be set for comined layout\n",
    "    \n",
    "    Standard Keys for Input Track Dictionary\n",
    "    ['origin', 'section name', 'marker style', 'guard logic', 'line bool', 'xy', 'direction', 'ms']\n",
    "    \n",
    "    \n",
    "    '''\n",
    "    if type(trackList) != list:\n",
    "        print(\"A list of track dictionaries is required. You did not supply a list\")\n",
    "        return 0\n",
    "\n",
    "    newTrackDict = {}\n",
    "    newTrackDict['section name'] = mergedName\n",
    "    newTrackDict['guard logic'] = []\n",
    "    newTrackDict['line bool'] = []\n",
    "    newTrackDict['xy'] = []\n",
    "    newTrackDict['direction'] = []\n",
    "    newTrackDict['marker style'] = trackList[0]['marker style']\n",
    "    newTrackDict['origin'] = trackList[0]['origin']\n",
    "    \n",
    "    for trackDict in trackList:\n",
    "        newTrackDict['guard logic'] += trackDict['guard logic']\n",
    "        newTrackDict['line bool'] += trackDict['line bool']\n",
    "        newTrackDict['xy'] += trackDict['xy']\n",
    "        newTrackDict['direction'] += trackDict['direction']\n",
    "        newTrackDict['marker style'] = trackDict['marker style']\n",
    "\n",
    "    return newTrackDict"
   ]
  },
  {
   "cell_type": "code",
   "execution_count": null,
   "metadata": {},
   "outputs": [],
   "source": []
  },
  {
   "cell_type": "code",
   "execution_count": null,
   "metadata": {},
   "outputs": [],
   "source": [
    "def calcSLIMLengthParamsV2(mainTrack):\n",
    "    '''\n",
    "    Highly simplified calculation of SLIM track length\n",
    "    Total lengths are slightly off due to the fact that turns are not scaled. \n",
    "    '''\n",
    "    xyMain = mainTrack['xy']\n",
    "    plInches = 0.360*(len(xyMain))\n",
    "\n",
    "    mainInches = 0.360*(len(xyMain))\n",
    "    mainL = mainInches*2.54\n",
    "\n",
    "    #values in meters\n",
    "    print(\"Main Track Length: %.2f m\"%(mainL/100))\n",
    "    print(\"Note: These lengths are geometric lengths and NOT scaled for turns\\nAdditionally, the total length also includes the contribution from the entrance.\")\n",
    "#     print(mainL/100, crimpL/100, pl/100, mainL/pl*100)    "
   ]
  },
  {
   "cell_type": "markdown",
   "metadata": {},
   "source": [
    "### JSON Serialization/Deserialization Script"
   ]
  },
  {
   "cell_type": "code",
   "execution_count": null,
   "metadata": {},
   "outputs": [],
   "source": [
    "def dumpJSON(outputName, dataDict):\n",
    "    # Serialization to disk\n",
    "    with open(outputName, \"w\") as write_file:\n",
    "        json.dump(dataDict, write_file)\n",
    "        print(\"Done Writing %s to disk\"%outputName)\n",
    "    \n",
    "def restoreJSON(inputName):\n",
    "    # Deserialization from disk\n",
    "    with open(inputName, \"r\") as read_file:\n",
    "        dataDict = json.load(read_file)    \n",
    "        print(\"Dont reading %s from disk\"%inputName)\n",
    "        return dataDict"
   ]
  },
  {
   "cell_type": "code",
   "execution_count": null,
   "metadata": {},
   "outputs": [],
   "source": [
    "def cleanSLIMDict(trackDict, boardInfo = 'Test Layout', topTrackName = 'TW1GT{}', botTrackName = 'TW1GB{}'):\n",
    "    '''\n",
    "    \n",
    "    Wraps the footprintLogic function and cleans up the SLIM dictionary for export to json. This must also\n",
    "    be run through the flipPCBDict which exports a flattened and simplified dictionary that can be used for export.\n",
    "    \n",
    "    Assumed Dictionaries:\n",
    "    \n",
    "    'xy'\n",
    "    'direction'\n",
    "    'origin'\n",
    "    \n",
    "    For the SLIM there are a minimum of two types of tracks.  One with the guard on top and one on the bottom. \n",
    "    We need to classify the different tracks setup in the script as top/bottom. \n",
    "    \n",
    "    IDEALLY, your footprint names in python will match those in KiCad. \n",
    "    \n",
    "    '''\n",
    "    \n",
    "    reqKeys = ['xy', 'direction', 'origin']\n",
    "    for rq in reqKeys:\n",
    "        if rq not in trackDict:\n",
    "            print(\"%s, not in dictionary. It is required!\"%rq)\n",
    "            return False\n",
    "    \n",
    "    xyList = trackDict['xy']\n",
    "    dirList = trackDict['direction']\n",
    "    origin = trackDict['origin']\n",
    "\n",
    "    nameList, angleList, topCount, botCount = footprintLogic(dirList)\n",
    "\n",
    "    pcbDict = {}\n",
    "    pcbDict['boardParams'] = boardInfo\n",
    "    pcbDict['name'] = nameList\n",
    "    pcbDict['xy'] = xyList\n",
    "    pcbDict['angle'] = angleList\n",
    "    pcbDict['origin'] = origin\n",
    "\n",
    "    print(\"Type and Number of Footprings Needed BEFORE running script in KiCad (* is the footprint number):\")\n",
    "    print('\\t', topTrackName.format('*'), ': ', topCount)\n",
    "    print('\\t', botTrackName.format('*'), ': ', botCount)    \n",
    "    \n",
    "    return pcbDict\n",
    "    "
   ]
  },
  {
   "cell_type": "code",
   "execution_count": null,
   "metadata": {},
   "outputs": [],
   "source": [
    "def flipPCBDict(pcbDict):\n",
    "    '''\n",
    "    Accepts a cleaned dictionary. \n",
    "    The new dictionary is the only one that should be exported to json. \n",
    "    '''\n",
    "    newDict = {}\n",
    "    fpNames = pcbDict['name']\n",
    "    xyPos = pcbDict['xy']\n",
    "    angles = pcbDict['angle']\n",
    "    for i,fpn in enumerate(fpNames):\n",
    "        newDict[fpn] = [xyPos[i], angles[i]]\n",
    "    newDict['origin'] = pcbDict['origin']\n",
    "    return newDict"
   ]
  },
  {
   "cell_type": "markdown",
   "metadata": {},
   "source": [
    "## NOTE THAT IN THE NEXT STEP OF THIS PROCESS ANY SET OF TRACKS THAT YOU WANT TO HAVE CONTROLLED BY SEPARATE TWAVE DRIVERS, YOU WANT TO EXPORT EACH TRACK SEPARATELY TO A json FILE.\n",
    "* This way you can have separate section in the KiCad schematic that you can separately sort and revise. \n",
    "* Trust me, relax, and have a homebrew."
   ]
  },
  {
   "cell_type": "markdown",
   "metadata": {},
   "source": [
    "## Begin of SLIM Layout Section"
   ]
  },
  {
   "cell_type": "code",
   "execution_count": null,
   "metadata": {},
   "outputs": [],
   "source": [
    "letterHeight = 3\n",
    "W = 'FFR'\n",
    "W += 'F'*(letterHeight)\n",
    "W += 'L' \n",
    "W += 'F'*(int(letterHeight/2))\n",
    "W += 'L'\n",
    "W += 'F'*(letterHeight)\n",
    "W += 'RR'\n",
    "W += 'F'*(letterHeight)\n",
    "W += 'L' \n",
    "W += 'F'*(int(letterHeight/2))\n",
    "W += 'L'\n",
    "W += 'F'*(letterHeight)\n",
    "W += 'RR'\n",
    "W += 'F'*(letterHeight)\n",
    "W += 'L'"
   ]
  },
  {
   "cell_type": "code",
   "execution_count": null,
   "metadata": {},
   "outputs": [],
   "source": [
    "S = 'FF'\n",
    "S += 'F'*(letterHeight)\n",
    "S += 'L'\n",
    "S += 'F'*(int(letterHeight/2))\n",
    "S += 'L'\n",
    "S += 'F'*(letterHeight)\n",
    "S += 'R'\n",
    "S += 'F'*(int(letterHeight/2))\n",
    "S += 'R'\n",
    "S += 'F'*(letterHeight)"
   ]
  },
  {
   "cell_type": "code",
   "execution_count": null,
   "metadata": {},
   "outputs": [],
   "source": [
    "U = 'FFR'\n",
    "U += 'F'*(letterHeight)\n",
    "U += 'L' \n",
    "U += 'F'*(int(letterHeight))\n",
    "U += 'L'\n",
    "U += 'F'*(letterHeight)\n",
    "U += 'R'\n",
    "U += 'F'\n",
    "# U += 'RR'\n",
    "# U += 'F'*(letterHeight)\n",
    "# U += 'L' \n",
    "# U += 'F'"
   ]
  },
  {
   "cell_type": "code",
   "execution_count": null,
   "metadata": {},
   "outputs": [],
   "source": [
    "trackString = W+S+U\n",
    "   \n",
    "\n",
    "print(trackString)"
   ]
  },
  {
   "cell_type": "markdown",
   "metadata": {},
   "source": [
    "#### Board Information Dictionary\n",
    "* Include drill locations if you need them.\n",
    "* These only relate to the corners. "
   ]
  },
  {
   "cell_type": "code",
   "execution_count": null,
   "metadata": {},
   "outputs": [],
   "source": [
    "boardDict = {}\n",
    "boardDict['origin'] = (180,910)\n",
    "boardDict['x'] = 7920\n",
    "boardDict['y'] = 3000\n",
    "drillOffsetX = 15\n",
    "drillOffsetY = 5\n",
    "boardDict['drill offset x'] = (drillOffsetX/25.4)*1000 #this is 15 mm\n",
    "boardDict['drill offset y'] = (drillOffsetY/25.4)*1000 #this is 5 mm"
   ]
  },
  {
   "cell_type": "code",
   "execution_count": null,
   "metadata": {},
   "outputs": [],
   "source": [
    "trackDictMain['ms'] = masterMS\n",
    "plotTrackSummary([trackDictMain], plotBoardBool=True, boardDict=boardDict, drillBool = False, printDrill = True, drillAlpha = 0.75)"
   ]
  },
  {
   "cell_type": "markdown",
   "metadata": {},
   "source": [
    "## Multiple Track Layout Tricks"
   ]
  },
  {
   "cell_type": "markdown",
   "metadata": {},
   "source": [
    "### If you want to know the last monomer position, use the following code\n",
    "* You can even use this as a starting position to chain different TWAVE tracks together"
   ]
  },
  {
   "cell_type": "code",
   "execution_count": null,
   "metadata": {},
   "outputs": [],
   "source": [
    "trackDictMain['xy'][-1]"
   ]
  },
  {
   "cell_type": "markdown",
   "metadata": {},
   "source": [
    "# Pay Attention Here:"
   ]
  },
  {
   "cell_type": "code",
   "execution_count": null,
   "metadata": {},
   "outputs": [],
   "source": [
    "pcbDictMain = cleanSLIMDict(trackDictMain, boardInfo = 'Main SLIM')"
   ]
  },
  {
   "cell_type": "code",
   "execution_count": null,
   "metadata": {},
   "outputs": [],
   "source": [
    "calcSLIMLengthParamsV2(trackDictMain)"
   ]
  },
  {
   "cell_type": "code",
   "execution_count": null,
   "metadata": {},
   "outputs": [],
   "source": []
  },
  {
   "cell_type": "markdown",
   "metadata": {},
   "source": [
    "## The print out here tells you how many of each monomer you need to put into your KiCad schematic\n",
    "## From here the KiCad plugin will sort the monomers on the PCB interface."
   ]
  },
  {
   "cell_type": "code",
   "execution_count": null,
   "metadata": {},
   "outputs": [],
   "source": [
    "sortedPCBDictMain = flipPCBDict(pcbDictMain)"
   ]
  },
  {
   "cell_type": "code",
   "execution_count": null,
   "metadata": {},
   "outputs": [],
   "source": [
    "outputName = 'WSULayoutMain.json'\n",
    "dumpJSON(outputName, sortedPCBDictMain)"
   ]
  },
  {
   "cell_type": "markdown",
   "metadata": {},
   "source": [
    "-----------"
   ]
  },
  {
   "cell_type": "markdown",
   "metadata": {},
   "source": [
    "## Note: Depending on the size of the tracks, the time for animation can be considerable.  Go get a cup of coffee.  Also, if you need mp4, you need to install ffmpeg.  This can be a pain as the paths need to specified properly on your system. "
   ]
  },
  {
   "cell_type": "code",
   "execution_count": null,
   "metadata": {},
   "outputs": [],
   "source": [
    "anim = animateRange(trackDictMain, 5, backGroundTrack = None, numIters = -1, interval = 50)"
   ]
  },
  {
   "cell_type": "code",
   "execution_count": null,
   "metadata": {},
   "outputs": [],
   "source": [
    "HTML(anim.to_jshtml())"
   ]
  },
  {
   "cell_type": "code",
   "execution_count": null,
   "metadata": {},
   "outputs": [],
   "source": [
    "#you may need to adjust to your computer setup\n",
    "plt.rcParams['animation.ffmpeg_path'] = '/opt/homebrew/bin/ffmpeg'"
   ]
  },
  {
   "cell_type": "code",
   "execution_count": null,
   "metadata": {},
   "outputs": [],
   "source": [
    "mywriter = animation.FFMpegWriter(fps = 30)"
   ]
  },
  {
   "cell_type": "code",
   "execution_count": null,
   "metadata": {},
   "outputs": [],
   "source": [
    "anim.save('WSU.mp4', writer=mywriter)"
   ]
  },
  {
   "cell_type": "code",
   "execution_count": null,
   "metadata": {},
   "outputs": [],
   "source": [
    "anim.save('WSU.gif', writer='imagemagick', savefig_kwargs={'transparent': False, 'facecolor': 'white'})"
   ]
  },
  {
   "cell_type": "code",
   "execution_count": null,
   "metadata": {},
   "outputs": [],
   "source": []
  },
  {
   "cell_type": "code",
   "execution_count": null,
   "metadata": {},
   "outputs": [],
   "source": []
  },
  {
   "cell_type": "code",
   "execution_count": null,
   "metadata": {},
   "outputs": [],
   "source": []
  }
 ],
 "metadata": {
  "kernelspec": {
   "display_name": "Python 3 (ipykernel)",
   "language": "python",
   "name": "python3"
  },
  "language_info": {
   "codemirror_mode": {
    "name": "ipython",
    "version": 3
   },
   "file_extension": ".py",
   "mimetype": "text/x-python",
   "name": "python",
   "nbconvert_exporter": "python",
   "pygments_lexer": "ipython3",
   "version": "3.9.13"
  }
 },
 "nbformat": 4,
 "nbformat_minor": 2
}
